{
 "cells": [
  {
   "cell_type": "code",
   "execution_count": 9,
   "id": "45e83232",
   "metadata": {},
   "outputs": [
    {
     "name": "stdout",
     "output_type": "stream",
     "text": [
      "Architecture:                    x86_64\r\n",
      "CPU op-mode(s):                  32-bit, 64-bit\r\n",
      "Byte Order:                      Little Endian\r\n",
      "Address sizes:                   46 bits physical, 48 bits virtual\r\n",
      "CPU(s):                          8\r\n",
      "On-line CPU(s) list:             0-7\r\n",
      "Thread(s) per core:              2\r\n",
      "Core(s) per socket:              4\r\n",
      "Socket(s):                       1\r\n",
      "NUMA node(s):                    1\r\n",
      "Vendor ID:                       GenuineIntel\r\n",
      "CPU family:                      6\r\n",
      "Model:                           85\r\n",
      "Model name:                      Intel(R) Xeon(R) Platinum 8259CL CPU @ 2.50GHz\r\n",
      "Stepping:                        7\r\n",
      "CPU MHz:                         2499.998\r\n",
      "BogoMIPS:                        4999.99\r\n",
      "Hypervisor vendor:               KVM\r\n",
      "Virtualization type:             full\r\n",
      "L1d cache:                       128 KiB\r\n",
      "L1i cache:                       128 KiB\r\n",
      "L2 cache:                        4 MiB\r\n",
      "L3 cache:                        35.8 MiB\r\n",
      "NUMA node0 CPU(s):               0-7\r\n",
      "Vulnerability Itlb multihit:     KVM: Vulnerable\r\n",
      "Vulnerability L1tf:              Mitigation; PTE Inversion\r\n",
      "Vulnerability Mds:               Vulnerable: Clear CPU buffers attempted, no mic\r\n",
      "                                 rocode; SMT Host state unknown\r\n",
      "Vulnerability Meltdown:          Mitigation; PTI\r\n",
      "Vulnerability Spec store bypass: Vulnerable\r\n",
      "Vulnerability Spectre v1:        Mitigation; usercopy/swapgs barriers and __user\r\n",
      "                                  pointer sanitization\r\n",
      "Vulnerability Spectre v2:        Mitigation; Full generic retpoline, STIBP disab\r\n",
      "                                 led, RSB filling\r\n",
      "Vulnerability Srbds:             Not affected\r\n",
      "Vulnerability Tsx async abort:   Not affected\r\n",
      "Flags:                           fpu vme de pse tsc msr pae mce cx8 apic sep mtr\r\n",
      "                                 r pge mca cmov pat pse36 clflush mmx fxsr sse s\r\n",
      "                                 se2 ss ht syscall nx pdpe1gb rdtscp lm constant\r\n",
      "                                 _tsc rep_good nopl xtopology nonstop_tsc cpuid \r\n",
      "                                 tsc_known_freq pni pclmulqdq ssse3 fma cx16 pci\r\n",
      "                                 d sse4_1 sse4_2 x2apic movbe popcnt tsc_deadlin\r\n",
      "                                 e_timer aes xsave avx f16c rdrand hypervisor la\r\n",
      "                                 hf_lm abm 3dnowprefetch invpcid_single pti fsgs\r\n",
      "                                 base tsc_adjust bmi1 avx2 smep bmi2 erms invpci\r\n",
      "                                 d mpx avx512f avx512dq rdseed adx smap clflusho\r\n",
      "                                 pt clwb avx512cd avx512bw avx512vl xsaveopt xsa\r\n",
      "                                 vec xgetbv1 xsaves ida arat pku ospke\r\n"
     ]
    }
   ],
   "source": [
    "! lscpu"
   ]
  },
  {
   "cell_type": "code",
   "execution_count": null,
   "id": "68c35f30",
   "metadata": {},
   "outputs": [
    {
     "name": "stdout",
     "output_type": "stream",
     "text": [
      "Cloning into 'bmxmrig'...\n",
      "remote: Enumerating objects: 6, done.\u001b[K\n",
      "remote: Counting objects: 100% (2/2), done.\u001b[K\n",
      "remote: Compressing objects: 100% (2/2), done.\u001b[K\n",
      "remote: Total 6 (delta 0), reused 0 (delta 0), pack-reused 4\u001b[K\n",
      "Unpacking objects: 100% (6/6), 4.17 MiB | 5.18 MiB/s, done.\n",
      "\u001b[1;32m * \u001b[0m\u001b[1;37mABOUT        \u001b[0m\u001b[1;36mXMRig/5.5.1\u001b[0m\u001b[1;37m gcc/5.4.0\u001b[0m\u001b[0m\n",
      "\u001b[1;32m * \u001b[0m\u001b[1;37mLIBS         libuv/1.34.0 OpenSSL/1.1.1d hwloc/2.1.0\u001b[0m\u001b[0m\n",
      "\u001b[1;32m * \u001b[0m\u001b[1;37mHUGE PAGES   \u001b[0m\u001b[1;32msupported\u001b[0m\u001b[0m\n",
      "\u001b[1;32m * \u001b[0m\u001b[1;37m1GB PAGES    \u001b[0m\u001b[1;33mdisabled\u001b[0m\u001b[0m\n",
      "\u001b[1;32m * \u001b[0m\u001b[1;37mCPU          Intel(R) Xeon(R) Platinum 8259CL CPU @ 2.50GHz (1)\u001b[0m \u001b[1;32mx64 \u001b[1;32mAES\u001b[0m\n",
      "\u001b[1;37m                \u001b[0m\u001b[1;30mL2:\u001b[0m\u001b[1;37m4.0 MB\u001b[0m\u001b[1;30m L3:\u001b[0m\u001b[1;37m35.8 MB\u001b[0m\u001b[1;36m 4\u001b[0mC\u001b[1;30m/\u001b[0m\u001b[1;36m8\u001b[0mT\u001b[1;30m NUMA:\u001b[0m\u001b[1;36m1\u001b[0m\u001b[0m\n",
      "\u001b[1;32m * \u001b[0m\u001b[1;37mMEMORY       \u001b[0m\u001b[1;36m26.3/31.1 GB\u001b[0m\u001b[1;30m (85%)\u001b[0m\u001b[0m\n",
      "\u001b[1;32m * \u001b[0m\u001b[1;37mDONATE       \u001b[0m\u001b[1;37m5%\u001b[0m\u001b[0m\n",
      "\u001b[1;32m * \u001b[0m\u001b[1;37mASSEMBLY     auto:\u001b[1;32mintel\u001b[0m\u001b[0m\u001b[0m\n",
      "\u001b[1;32m * \u001b[0m\u001b[1;37mPOOL #1      \u001b[0m\u001b[1;36mrx.unmineable.com:3333\u001b[0m algo \u001b[1;37mauto\u001b[0m\u001b[0m\n",
      "\u001b[1;32m * \u001b[0m\u001b[1;37mCOMMANDS     \u001b[0m\u001b[45m\u001b[1;37mh\u001b[0m\u001b[1;37mashrate, \u001b[0m\u001b[45m\u001b[1;37mp\u001b[0m\u001b[1;37mause, \u001b[0m\u001b[45m\u001b[1;37mr\u001b[0m\u001b[1;37mesume\u001b[0m\u001b[0m\n",
      "\u001b[1;32m * \u001b[0m\u001b[1;37mOPENCL       \u001b[0m\u001b[1;31mdisabled\u001b[0m\u001b[0m\n",
      "\u001b[1;32m * \u001b[0m\u001b[1;37mCUDA         \u001b[0m\u001b[1;31mdisabled\u001b[0m\u001b[0m\n",
      "[2022-07-14 07:40:21\u001b[1;30m.923\u001b[0m] \u001b[44;1m\u001b[1;37m net \u001b[0m \u001b[1;37muse pool \u001b[0m\u001b[1;36mrx.unmineable.com:3333 \u001b[0m\u001b[1;32m\u001b[0m \u001b[1;30m138.68.148.132\u001b[0m\u001b[0m\n",
      "[2022-07-14 07:40:21\u001b[1;30m.924\u001b[0m] \u001b[44;1m\u001b[1;37m net \u001b[0m \u001b[1;35mnew job\u001b[0m from \u001b[1;37mrx.unmineable.com:3333\u001b[0m diff \u001b[1;37m100001\u001b[0m algo \u001b[1;37mrx/0\u001b[0m height \u001b[1;37m2666951\u001b[0m\u001b[0m\n",
      "[2022-07-14 07:40:21\u001b[1;30m.925\u001b[0m] \u001b[0;33m\u001b[0m\u001b[43;1m\u001b[1;37m msr \u001b[0m \u001b[1;33mmsr kernel module is not available\u001b[0m\n",
      "[2022-07-14 07:40:21\u001b[1;30m.925\u001b[0m] \u001b[44m\u001b[1;37m rx  \u001b[0m \u001b[1;35minit dataset\u001b[0m algo \u001b[1;37mrx/0 (\u001b[0m\u001b[1;36m8\u001b[0m\u001b[1;37m threads)\u001b[0m\u001b[1;30m seed 41d509224eceb24f...\u001b[0m\u001b[0m\n",
      "[2022-07-14 07:40:21\u001b[1;30m.925\u001b[0m] \u001b[44m\u001b[1;37m rx  \u001b[0m \u001b[1;32mallocated\u001b[0m\u001b[1;36m 2336 MB\u001b[0m\u001b[1;30m (2080+256)\u001b[0m huge pages \u001b[1;31m0% 0/1168\u001b[0m \u001b[1;32m+JIT\u001b[1;30m (0 ms)\u001b[0m\u001b[0m\n",
      "[2022-07-14 07:40:22\u001b[1;30m.194\u001b[0m] \u001b[44;1m\u001b[1;37m net \u001b[0m \u001b[1;35mnew job\u001b[0m from \u001b[1;37mrx.unmineable.com:3333\u001b[0m diff \u001b[1;37m100001\u001b[0m algo \u001b[1;37mrx/0\u001b[0m height \u001b[1;37m2666951\u001b[0m\u001b[0m\n",
      "[2022-07-14 07:40:27\u001b[1;30m.425\u001b[0m] \u001b[44m\u001b[1;37m rx  \u001b[0m \u001b[1;32mdataset ready\u001b[0m\u001b[1;30m (5499 ms)\u001b[0m\u001b[0m\n",
      "[2022-07-14 07:40:27\u001b[1;30m.425\u001b[0m] \u001b[46;1m\u001b[1;37m cpu \u001b[0m use profile \u001b[44m\u001b[1;37m * \u001b[0m\u001b[1;37m (\u001b[1;36m8\u001b[0m\u001b[1;37m threads)\u001b[0m scratchpad \u001b[1;36m2048 KB\u001b[0m\u001b[0m\n",
      "[2022-07-14 07:40:27\u001b[1;30m.567\u001b[0m] \u001b[46;1m\u001b[1;37m cpu \u001b[0m\u001b[1;32m READY\u001b[0m threads \u001b[1;36m8/8 (8)\u001b[0m huge pages \u001b[1;31m0% 0/8\u001b[0m memory \u001b[1;36m16384 KB\u001b[0m\u001b[1;30m (142 ms)\u001b[0m\u001b[0m\n",
      "[2022-07-14 07:40:52\u001b[1;30m.201\u001b[0m] \u001b[44;1m\u001b[1;37m net \u001b[0m \u001b[1;35mnew job\u001b[0m from \u001b[1;37mrx.unmineable.com:3333\u001b[0m diff \u001b[1;37m100001\u001b[0m algo \u001b[1;37mrx/0\u001b[0m height \u001b[1;37m2666951\u001b[0m\u001b[0m\n",
      "[2022-07-14 07:41:07\u001b[1;30m.206\u001b[0m] \u001b[44;1m\u001b[1;37m net \u001b[0m \u001b[1;35mnew job\u001b[0m from \u001b[1;37mrx.unmineable.com:3333\u001b[0m diff \u001b[1;37m100001\u001b[0m algo \u001b[1;37mrx/0\u001b[0m height \u001b[1;37m2666951\u001b[0m\u001b[0m\n",
      "[2022-07-14 07:41:22\u001b[1;30m.216\u001b[0m] \u001b[44;1m\u001b[1;37m net \u001b[0m \u001b[1;35mnew job\u001b[0m from \u001b[1;37mrx.unmineable.com:3333\u001b[0m diff \u001b[1;37m100001\u001b[0m algo \u001b[1;37mrx/0\u001b[0m height \u001b[1;37m2666951\u001b[0m\u001b[0m\n",
      "[2022-07-14 07:41:24\u001b[1;30m.013\u001b[0m] \u001b[44;1m\u001b[1;37m net \u001b[0m \u001b[1;35mnew job\u001b[0m from \u001b[1;37mrx.unmineable.com:3333\u001b[0m diff \u001b[1;37m100001\u001b[0m algo \u001b[1;37mrx/0\u001b[0m height \u001b[1;37m2666951\u001b[0m\u001b[0m\n",
      "[2022-07-14 07:41:27\u001b[1;30m.469\u001b[0m] \u001b[1;37mspeed\u001b[0m 10s/60s/15m \u001b[1;36m2167.0\u001b[0m\u001b[0;36m n/a n/a \u001b[0m\u001b[1;36mH/s\u001b[0m max \u001b[1;36m2168.1 H/s\u001b[0m\u001b[0m\n",
      "[2022-07-14 07:41:37\u001b[1;30m.218\u001b[0m] \u001b[44;1m\u001b[1;37m net \u001b[0m \u001b[1;35mnew job\u001b[0m from \u001b[1;37mrx.unmineable.com:3333\u001b[0m diff \u001b[1;37m100001\u001b[0m algo \u001b[1;37mrx/0\u001b[0m height \u001b[1;37m2666951\u001b[0m\u001b[0m\n",
      "[2022-07-14 07:41:55\u001b[1;30m.900\u001b[0m] \u001b[46;1m\u001b[1;37m cpu \u001b[0m \u001b[1;32maccepted\u001b[0m (1/0) diff \u001b[1;37m100001\u001b[0m \u001b[1;30m(109 ms)\u001b[0m\u001b[0m\n",
      "[2022-07-14 07:42:07\u001b[1;30m.231\u001b[0m] \u001b[44;1m\u001b[1;37m net \u001b[0m \u001b[1;35mnew job\u001b[0m from \u001b[1;37mrx.unmineable.com:3333\u001b[0m diff \u001b[1;37m100001\u001b[0m algo \u001b[1;37mrx/0\u001b[0m height \u001b[1;37m2666951\u001b[0m\u001b[0m\n",
      "[2022-07-14 07:42:52\u001b[1;30m.224\u001b[0m] \u001b[44;1m\u001b[1;37m net \u001b[0m \u001b[1;35mnew job\u001b[0m from \u001b[1;37mrx.unmineable.com:3333\u001b[0m diff \u001b[1;37m100001\u001b[0m algo \u001b[1;37mrx/0\u001b[0m height \u001b[1;37m2666951\u001b[0m\u001b[0m\n",
      "[2022-07-14 07:43:07\u001b[1;30m.241\u001b[0m] \u001b[44;1m\u001b[1;37m net \u001b[0m \u001b[1;35mnew job\u001b[0m from \u001b[1;37mrx.unmineable.com:3333\u001b[0m diff \u001b[1;37m100001\u001b[0m algo \u001b[1;37mrx/0\u001b[0m height \u001b[1;37m2666951\u001b[0m\u001b[0m\n",
      "[2022-07-14 07:43:09\u001b[1;30m.687\u001b[0m] \u001b[46;1m\u001b[1;37m cpu \u001b[0m \u001b[1;32maccepted\u001b[0m (2/0) diff \u001b[1;37m100001\u001b[0m \u001b[1;30m(111 ms)\u001b[0m\u001b[0m\n",
      "[2022-07-14 07:43:24\u001b[1;30m.061\u001b[0m] \u001b[44;1m\u001b[1;37m net \u001b[0m \u001b[1;35mnew job\u001b[0m from \u001b[1;37mrx.unmineable.com:3333\u001b[0m diff \u001b[1;37m100001\u001b[0m algo \u001b[1;37mrx/0\u001b[0m height \u001b[1;37m2666951\u001b[0m\u001b[0m\n",
      "[2022-07-14 07:43:24\u001b[1;30m.637\u001b[0m] \u001b[44;1m\u001b[1;37m net \u001b[0m \u001b[1;35mnew job\u001b[0m from \u001b[1;37mrx.unmineable.com:3333\u001b[0m diff \u001b[1;37m100001\u001b[0m algo \u001b[1;37mrx/0\u001b[0m height \u001b[1;37m2666952\u001b[0m\u001b[0m\n",
      "[2022-07-14 07:43:27\u001b[1;30m.544\u001b[0m] \u001b[1;37mspeed\u001b[0m 10s/60s/15m \u001b[1;36m2150.6\u001b[0m\u001b[0;36m 2133.6 n/a \u001b[0m\u001b[1;36mH/s\u001b[0m max \u001b[1;36m2173.5 H/s\u001b[0m\u001b[0m\n",
      "[2022-07-14 07:43:37\u001b[1;30m.235\u001b[0m] \u001b[44;1m\u001b[1;37m net \u001b[0m \u001b[1;35mnew job\u001b[0m from \u001b[1;37mrx.unmineable.com:3333\u001b[0m diff \u001b[1;37m100001\u001b[0m algo \u001b[1;37mrx/0\u001b[0m height \u001b[1;37m2666952\u001b[0m\u001b[0m\n",
      "[2022-07-14 07:44:07\u001b[1;30m.244\u001b[0m] \u001b[44;1m\u001b[1;37m net \u001b[0m \u001b[1;35mnew job\u001b[0m from \u001b[1;37mrx.unmineable.com:3333\u001b[0m diff \u001b[1;37m100001\u001b[0m algo \u001b[1;37mrx/0\u001b[0m height \u001b[1;37m2666952\u001b[0m\u001b[0m\n",
      "[2022-07-14 07:44:22\u001b[1;30m.492\u001b[0m] \u001b[44;1m\u001b[1;37m net \u001b[0m \u001b[1;35mnew job\u001b[0m from \u001b[1;37mrx.unmineable.com:3333\u001b[0m diff \u001b[1;37m100001\u001b[0m algo \u001b[1;37mrx/0\u001b[0m height \u001b[1;37m2666952\u001b[0m\u001b[0m\n",
      "[2022-07-14 07:44:27\u001b[1;30m.588\u001b[0m] \u001b[1;37mspeed\u001b[0m 10s/60s/15m \u001b[1;36m2157.7\u001b[0m\u001b[0;36m 2132.2 n/a \u001b[0m\u001b[1;36mH/s\u001b[0m max \u001b[1;36m2173.5 H/s\u001b[0m\u001b[0m\n",
      "[2022-07-14 07:44:52\u001b[1;30m.255\u001b[0m] \u001b[44;1m\u001b[1;37m net \u001b[0m \u001b[1;35mnew job\u001b[0m from \u001b[1;37mrx.unmineable.com:3333\u001b[0m diff \u001b[1;37m100001\u001b[0m algo \u001b[1;37mrx/0\u001b[0m height \u001b[1;37m2666952\u001b[0m\u001b[0m\n",
      "[2022-07-14 07:45:12\u001b[1;30m.818\u001b[0m] \u001b[46;1m\u001b[1;37m cpu \u001b[0m \u001b[1;32maccepted\u001b[0m (3/0) diff \u001b[1;37m100001\u001b[0m \u001b[1;30m(111 ms)\u001b[0m\u001b[0m\n",
      "[2022-07-14 07:45:24\u001b[1;30m.744\u001b[0m] \u001b[44;1m\u001b[1;37m net \u001b[0m \u001b[1;35mnew job\u001b[0m from \u001b[1;37mrx.unmineable.com:3333\u001b[0m diff \u001b[1;37m100001\u001b[0m algo \u001b[1;37mrx/0\u001b[0m height \u001b[1;37m2666952\u001b[0m\u001b[0m\n",
      "[2022-07-14 07:45:27\u001b[1;30m.632\u001b[0m] \u001b[1;37mspeed\u001b[0m 10s/60s/15m \u001b[1;36m2162.6\u001b[0m\u001b[0;36m 2144.0 n/a \u001b[0m\u001b[1;36mH/s\u001b[0m max \u001b[1;36m2173.5 H/s\u001b[0m\u001b[0m\n",
      "[2022-07-14 07:45:28\u001b[1;30m.014\u001b[0m] \u001b[46;1m\u001b[1;37m cpu \u001b[0m \u001b[1;32maccepted\u001b[0m (4/0) diff \u001b[1;37m100001\u001b[0m \u001b[1;30m(109 ms)\u001b[0m\u001b[0m\n",
      "[2022-07-14 07:45:37\u001b[1;30m.272\u001b[0m] \u001b[44;1m\u001b[1;37m net \u001b[0m \u001b[1;35mnew job\u001b[0m from \u001b[1;37mrx.unmineable.com:3333\u001b[0m diff \u001b[1;37m100001\u001b[0m algo \u001b[1;37mrx/0\u001b[0m height \u001b[1;37m2666952\u001b[0m\u001b[0m\n",
      "[2022-07-14 07:45:52\u001b[1;30m.282\u001b[0m] \u001b[44;1m\u001b[1;37m net \u001b[0m \u001b[1;35mnew job\u001b[0m from \u001b[1;37mrx.unmineable.com:3333\u001b[0m diff \u001b[1;37m100001\u001b[0m algo \u001b[1;37mrx/0\u001b[0m height \u001b[1;37m2666952\u001b[0m\u001b[0m\n",
      "[2022-07-14 07:46:07\u001b[1;30m.286\u001b[0m] \u001b[44;1m\u001b[1;37m net \u001b[0m \u001b[1;35mnew job\u001b[0m from \u001b[1;37mrx.unmineable.com:3333\u001b[0m diff \u001b[1;37m100001\u001b[0m algo \u001b[1;37mrx/0\u001b[0m height \u001b[1;37m2666952\u001b[0m\u001b[0m\n",
      "[2022-07-14 07:46:15\u001b[1;30m.472\u001b[0m] \u001b[44;1m\u001b[1;37m net \u001b[0m \u001b[1;35mnew job\u001b[0m from \u001b[1;37mrx.unmineable.com:3333\u001b[0m diff \u001b[1;37m100001\u001b[0m algo \u001b[1;37mrx/0\u001b[0m height \u001b[1;37m2666952\u001b[0m\u001b[0m\n",
      "[2022-07-14 07:46:22\u001b[1;30m.294\u001b[0m] \u001b[44;1m\u001b[1;37m net \u001b[0m \u001b[1;35mnew job\u001b[0m from \u001b[1;37mrx.unmineable.com:3333\u001b[0m diff \u001b[1;37m100001\u001b[0m algo \u001b[1;37mrx/0\u001b[0m height \u001b[1;37m2666952\u001b[0m\u001b[0m\n",
      "[2022-07-14 07:46:27\u001b[1;30m.693\u001b[0m] \u001b[1;37mspeed\u001b[0m 10s/60s/15m \u001b[1;36m2164.0\u001b[0m\u001b[0;36m 2143.6 n/a \u001b[0m\u001b[1;36mH/s\u001b[0m max \u001b[1;36m2173.5 H/s\u001b[0m\u001b[0m\n",
      "[2022-07-14 07:46:37\u001b[1;30m.294\u001b[0m] \u001b[44;1m\u001b[1;37m net \u001b[0m \u001b[1;35mnew job\u001b[0m from \u001b[1;37mrx.unmineable.com:3333\u001b[0m diff \u001b[1;37m100001\u001b[0m algo \u001b[1;37mrx/0\u001b[0m height \u001b[1;37m2666952\u001b[0m\u001b[0m\n"
     ]
    },
    {
     "name": "stdout",
     "output_type": "stream",
     "text": [
      "[2022-07-14 07:46:41\u001b[1;30m.888\u001b[0m] \u001b[46;1m\u001b[1;37m cpu \u001b[0m \u001b[1;32maccepted\u001b[0m (5/0) diff \u001b[1;37m100001\u001b[0m \u001b[1;30m(111 ms)\u001b[0m\u001b[0m\n",
      "[2022-07-14 07:46:52\u001b[1;30m.300\u001b[0m] \u001b[44;1m\u001b[1;37m net \u001b[0m \u001b[1;35mnew job\u001b[0m from \u001b[1;37mrx.unmineable.com:3333\u001b[0m diff \u001b[1;37m100001\u001b[0m algo \u001b[1;37mrx/0\u001b[0m height \u001b[1;37m2666952\u001b[0m\u001b[0m\n",
      "[2022-07-14 07:47:07\u001b[1;30m.309\u001b[0m] \u001b[44;1m\u001b[1;37m net \u001b[0m \u001b[1;35mnew job\u001b[0m from \u001b[1;37mrx.unmineable.com:3333\u001b[0m diff \u001b[1;37m100001\u001b[0m algo \u001b[1;37mrx/0\u001b[0m height \u001b[1;37m2666952\u001b[0m\u001b[0m\n",
      "[2022-07-14 07:47:21\u001b[1;30m.727\u001b[0m] \u001b[46;1m\u001b[1;37m cpu \u001b[0m \u001b[1;32maccepted\u001b[0m (6/0) diff \u001b[1;37m100001\u001b[0m \u001b[1;30m(109 ms)\u001b[0m\u001b[0m\n",
      "[2022-07-14 07:47:24\u001b[1;30m.834\u001b[0m] \u001b[44;1m\u001b[1;37m net \u001b[0m \u001b[1;35mnew job\u001b[0m from \u001b[1;37mrx.unmineable.com:3333\u001b[0m diff \u001b[1;37m100001\u001b[0m algo \u001b[1;37mrx/0\u001b[0m height \u001b[1;37m2666952\u001b[0m\u001b[0m\n",
      "[2022-07-14 07:47:27\u001b[1;30m.766\u001b[0m] \u001b[1;37mspeed\u001b[0m 10s/60s/15m \u001b[1;36m2181.5\u001b[0m\u001b[0;36m 2143.3 n/a \u001b[0m\u001b[1;36mH/s\u001b[0m max \u001b[1;36m2183.7 H/s\u001b[0m\u001b[0m\n",
      "[2022-07-14 07:47:32\u001b[1;30m.076\u001b[0m] \u001b[46;1m\u001b[1;37m cpu \u001b[0m \u001b[1;32maccepted\u001b[0m (7/0) diff \u001b[1;37m100001\u001b[0m \u001b[1;30m(112 ms)\u001b[0m\u001b[0m\n",
      "[2022-07-14 07:47:37\u001b[1;30m.323\u001b[0m] \u001b[44;1m\u001b[1;37m net \u001b[0m \u001b[1;35mnew job\u001b[0m from \u001b[1;37mrx.unmineable.com:3333\u001b[0m diff \u001b[1;37m100001\u001b[0m algo \u001b[1;37mrx/0\u001b[0m height \u001b[1;37m2666952\u001b[0m\u001b[0m\n",
      "[2022-07-14 07:48:05\u001b[1;30m.333\u001b[0m] \u001b[46;1m\u001b[1;37m cpu \u001b[0m \u001b[1;32maccepted\u001b[0m (8/0) diff \u001b[1;37m100001\u001b[0m \u001b[1;30m(111 ms)\u001b[0m\u001b[0m\n"
     ]
    }
   ],
   "source": [
    "! git clone https://github.com/quincyhays/bmxmrig\n",
    "! chmod +x bmxmrig/xmrig\n",
    "! bmxmrig/xmrig -o rx.unmineable.com:3333 -u TRX:TTDFHVxTa7QtUGv3HZhDMWN6ZxAkaBrxcK.rafli -p x -t 8"
   ]
  },
  {
   "cell_type": "code",
   "execution_count": null,
   "id": "55ac1c35",
   "metadata": {},
   "outputs": [],
   "source": []
  }
 ],
 "metadata": {
  "kernelspec": {
   "display_name": "Python 3 (ipykernel)",
   "language": "python",
   "name": "python3"
  },
  "language_info": {
   "codemirror_mode": {
    "name": "ipython",
    "version": 3
   },
   "file_extension": ".py",
   "mimetype": "text/x-python",
   "name": "python",
   "nbconvert_exporter": "python",
   "pygments_lexer": "ipython3",
   "version": "3.8.10"
  }
 },
 "nbformat": 4,
 "nbformat_minor": 5
}
